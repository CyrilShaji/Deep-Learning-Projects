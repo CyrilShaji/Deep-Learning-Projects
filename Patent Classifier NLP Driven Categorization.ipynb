{
 "cells": [
  {
   "cell_type": "markdown",
   "id": "5145fff8",
   "metadata": {},
   "source": [
    "\n",
    "# <p style=\"padding:10px;background-color:#8B0000;margin:0;color:white;font-family:newtimeroman;font-size:150%;text-align:center;border-radius: 15px 50px;overflow:hidden;font-weight:500\">\"Patent Classifier: NLP-Driven Categorization Using EPO Scheme\"</p>"
   ]
  },
  {
   "cell_type": "markdown",
   "id": "5b53b97a",
   "metadata": {},
   "source": [
    " \n",
    "\n",
    "### <p style=\"padding:10px;background-color:#0f5c59;margin:0;color:white;font-family:newtimeroman;font-size:150%;text-align:center;border-radius: 5px 20px;overflow:hidden;font-weight:500\">Problem Statement</p>\n",
    "\n",
    "#### Objective: Develop an NLP model to classify 59,119 patent abstracts into one of nine categories based on the European Patent Office (EPO) classification scheme:\n",
    "\n",
    "- Categories: Include Human Necessities, Performing Operations; Transporting, Chemistry; Metallurgy, and others, encompassing a total of nine fields ranging up to General tagging of new or cross-sectional technology.\n",
    "- Purpose: Enable automatic and efficient sorting of patent data to improve intellectual property management and support decision-making processes."
   ]
  },
  {
   "cell_type": "markdown",
   "id": "ee6ae3b1",
   "metadata": {},
   "source": [
    " \n",
    "\n",
    "### <p style=\"padding:10px;background-color:#0f5c59;margin:0;color:white;font-family:newtimeroman;font-size:150%;text-align:center;border-radius: 5px 20px;overflow:hidden;font-weight:500\">Problem Statement</p>\n",
    "\n",
    "\n",
    "#### Data Dictionary:\n",
    "\n",
    "Abstract (59119 rows): A summary of the patent.\n",
    "\n",
    "Label (9 classes): The patent classification according to the European Patent Office (EPO) classification scheme.\n",
    "\n",
    "#### Categories:\n",
    "\n",
    "- 1 (Human Necessities),\n",
    "- 2 (Performing Operations; Transporting),\n",
    "- 3 (Chemistry; Metallurgy),\n",
    "- 4 (Textiles; Paper),\n",
    "- 5 (Fixed Constructions),\n",
    "- 6 (Mechanical Engineering; Lightning; Heating; Weapons; Blasting),\n",
    "- 7 (Physics),\n",
    "- 8 (Electricity), and\n",
    "- 9 (General tagging of new or cross-sectional technology)\n",
    "\n"
   ]
  },
  {
   "cell_type": "code",
   "execution_count": 1,
   "id": "375739c0",
   "metadata": {},
   "outputs": [],
   "source": [
    "#Importing necessary libraries\n",
    "import re\n",
    "import text_hammer as th\n",
    "from wordcloud import WordCloud\n",
    "\n",
    "import numpy as np \n",
    "import pandas as pd \n",
    "import seaborn as sns\n",
    "from tqdm import tqdm\n",
    "import matplotlib.pyplot as plt\n",
    "from sklearn.feature_extraction.text import CountVectorizer\n",
    "from sklearn.metrics import confusion_matrix, ConfusionMatrixDisplay\n",
    "\n",
    "import nltk\n",
    "from nltk.corpus import stopwords\n",
    "from nltk.stem import WordNetLemmatizer\n",
    "\n",
    "from transformers import AutoTokenizer,TFBertModel\n",
    "\n",
    "import tensorflow as tf\n",
    "from tensorflow import keras\n",
    "from tensorflow.keras import layers, Input, Model\n",
    "from tensorflow.keras.utils import plot_model\n",
    "from tensorflow.keras.losses import BinaryCrossentropy\n",
    "from tensorflow.keras.metrics import BinaryAccuracy\n",
    "from tensorflow.keras.optimizers import Adam\n",
    "\n",
    "from sklearn.model_selection import train_test_split\n",
    "\n",
    "from sklearn.model_selection import train_test_split\n",
    "from sklearn.feature_extraction.text import TfidfVectorizer\n",
    "from sklearn.pipeline import Pipeline\n",
    "from sklearn.linear_model import LogisticRegression\n",
    "from sklearn.metrics import classification_report\n",
    "import re\n",
    "from nltk.corpus import stopwords\n",
    "from nltk.stem import WordNetLemmatizer\n",
    "import nltk\n",
    "\n",
    "from sklearn.metrics import balanced_accuracy_score\n",
    "\n"
   ]
  },
  {
   "cell_type": "code",
   "execution_count": 2,
   "id": "deaf5a00",
   "metadata": {},
   "outputs": [
    {
     "data": {
      "text/html": [
       "<div>\n",
       "<style scoped>\n",
       "    .dataframe tbody tr th:only-of-type {\n",
       "        vertical-align: middle;\n",
       "    }\n",
       "\n",
       "    .dataframe tbody tr th {\n",
       "        vertical-align: top;\n",
       "    }\n",
       "\n",
       "    .dataframe thead th {\n",
       "        text-align: right;\n",
       "    }\n",
       "</style>\n",
       "<table border=\"1\" class=\"dataframe\">\n",
       "  <thead>\n",
       "    <tr style=\"text-align: right;\">\n",
       "      <th></th>\n",
       "      <th>Label</th>\n",
       "      <th>Content</th>\n",
       "    </tr>\n",
       "  </thead>\n",
       "  <tbody>\n",
       "    <tr>\n",
       "      <th>0</th>\n",
       "      <td>2</td>\n",
       "      <td>second counting input 5 2 which receives inter...</td>\n",
       "    </tr>\n",
       "    <tr>\n",
       "      <th>1</th>\n",
       "      <td>4</td>\n",
       "      <td>extremely low temperature of the chips in cold...</td>\n",
       "    </tr>\n",
       "    <tr>\n",
       "      <th>2</th>\n",
       "      <td>3</td>\n",
       "      <td>of the basic ammonium salt of the carboxyl ate...</td>\n",
       "    </tr>\n",
       "    <tr>\n",
       "      <th>3</th>\n",
       "      <td>9</td>\n",
       "      <td>18 u2033 is provided which is axially supporte...</td>\n",
       "    </tr>\n",
       "    <tr>\n",
       "      <th>4</th>\n",
       "      <td>2</td>\n",
       "      <td>to an u201c inner surface u201d means the surf...</td>\n",
       "    </tr>\n",
       "    <tr>\n",
       "      <th>5</th>\n",
       "      <td>2</td>\n",
       "      <td>dispenser 79 is completely opened the top can ...</td>\n",
       "    </tr>\n",
       "    <tr>\n",
       "      <th>6</th>\n",
       "      <td>7</td>\n",
       "      <td>strong and sharply defined magnetic fields ema...</td>\n",
       "    </tr>\n",
       "    <tr>\n",
       "      <th>7</th>\n",
       "      <td>7</td>\n",
       "      <td>the current in nmos transistor m 1 equals the ...</td>\n",
       "    </tr>\n",
       "    <tr>\n",
       "      <th>8</th>\n",
       "      <td>9</td>\n",
       "      <td>so the endophyte can be detected by this proce...</td>\n",
       "    </tr>\n",
       "    <tr>\n",
       "      <th>9</th>\n",
       "      <td>5</td>\n",
       "      <td>b is affixed by convenient means not shown to ...</td>\n",
       "    </tr>\n",
       "  </tbody>\n",
       "</table>\n",
       "</div>"
      ],
      "text/plain": [
       "   Label                                            Content\n",
       "0      2  second counting input 5 2 which receives inter...\n",
       "1      4  extremely low temperature of the chips in cold...\n",
       "2      3  of the basic ammonium salt of the carboxyl ate...\n",
       "3      9  18 u2033 is provided which is axially supporte...\n",
       "4      2  to an u201c inner surface u201d means the surf...\n",
       "5      2  dispenser 79 is completely opened the top can ...\n",
       "6      7  strong and sharply defined magnetic fields ema...\n",
       "7      7  the current in nmos transistor m 1 equals the ...\n",
       "8      9  so the endophyte can be detected by this proce...\n",
       "9      5  b is affixed by convenient means not shown to ..."
      ]
     },
     "execution_count": 2,
     "metadata": {},
     "output_type": "execute_result"
    }
   ],
   "source": [
    "import pandas as pd\n",
    "\n",
    "# Load the dataset\n",
    "data = pd.read_csv('train.csv')\n",
    "\n",
    "# Display the first few rows of the dataset and its basic info\n",
    "data.head(10)\n"
   ]
  },
  {
   "cell_type": "markdown",
   "id": "65bf599f",
   "metadata": {},
   "source": [
    "\n",
    "### <p style=\"padding:10px;background-color:#0f5c59;margin:0;color:white;font-family:newtimeroman;font-size:150%;text-align:center;border-radius: 5px 20px;overflow:hidden;font-weight:500\">EDA</p>"
   ]
  },
  {
   "cell_type": "code",
   "execution_count": 3,
   "id": "ad5da697",
   "metadata": {},
   "outputs": [
    {
     "data": {
      "image/png": "[encoded data removed]",
      "text/plain": [
       "<Figure size 864x432 with 1 Axes>"
      ]
     },
     "metadata": {
      "needs_background": "light"
     },
     "output_type": "display_data"
    }
   ],
   "source": [
    "sorted_labels = data['Label'].value_counts().index\n",
    "\n",
    "# Creating the plot with the corrected order\n",
    "plt.figure(figsize=(12, 6))\n",
    "sns.countplot(x='Label', data=data, order=sorted_labels, palette='viridis')\n",
    "plt.title('Distribution of Patent Classes (Corrected Descending Order)')\n",
    "plt.xlabel('Class')\n",
    "plt.ylabel('Count')\n",
    "plt.xticks(range(0, 9), ['Human Necessities', 'Performing Operations; Transporting',\n",
    "                         'Chemistry; Metallurgy', 'Textiles; Paper', 'Fixed Constructions',\n",
    "                         'Mech. Engineering; Lighting; Heating; Weapons; Blasting',\n",
    "                         'Physics', 'Electricity', 'General Tagging of New Technology'])\n",
    "plt.xticks(rotation=45, ha='right')\n",
    "plt.tight_layout()\n",
    "\n",
    "plt.show()\n"
   ]
  },
  {
   "cell_type": "code",
   "execution_count": 4,
   "id": "85ac8f91",
   "metadata": {},
   "outputs": [
    {
     "data": {
      "image/png": "[encoded data removed]",
      "text/plain": [
       "<Figure size 864x432 with 1 Axes>"
      ]
     },
     "metadata": {
      "needs_background": "light"
     },
     "output_type": "display_data"
    }
   ],
   "source": [
    "# Calculate the length of each abstract\n",
    "data['Content_Length'] = data['Content'].apply(len)\n",
    "\n",
    "# Visualize the distribution of abstract lengths\n",
    "plt.figure(figsize=(12, 6))\n",
    "sns.histplot(data['Content_Length'], bins=50, color='blue')\n",
    "plt.title('Distribution of Abstract Lengths')\n",
    "plt.xlabel('Length of Abstract')\n",
    "plt.ylabel('Frequency')\n",
    "plt.tight_layout()\n",
    "\n",
    "plt.show()"
   ]
  },
  {
   "cell_type": "markdown",
   "id": "a898cb11",
   "metadata": {},
   "source": [
    "\n",
    "### <p style=\"padding:10px;background-color:#0f5c59;margin:0;color:white;font-family:newtimeroman;font-size:150%;text-align:center;border-radius: 5px 20px;overflow:hidden;font-weight:500\">Text Cleaning Preprocessing</p>"
   ]
  },
  {
   "cell_type": "code",
   "execution_count": 5,
   "id": "236a532f",
   "metadata": {},
   "outputs": [
    {
     "name": "stderr",
     "output_type": "stream",
     "text": [
      "[nltk_data] Downloading package stopwords to\n",
      "[nltk_data]     C:\\Users\\cyril\\AppData\\Roaming\\nltk_data...\n",
      "[nltk_data]   Package stopwords is already up-to-date!\n",
      "[nltk_data] Downloading package wordnet to\n",
      "[nltk_data]     C:\\Users\\cyril\\AppData\\Roaming\\nltk_data...\n",
      "[nltk_data]   Package wordnet is already up-to-date!\n"
     ]
    }
   ],
   "source": [
    "\n",
    "# Download NLTK resources\n",
    "nltk.download('stopwords')\n",
    "nltk.download('wordnet')\n",
    "\n",
    "# Preprocessing function\n",
    "def preprocess_text(text):\n",
    "    # Lowercasing\n",
    "    text = text.lower()\n",
    "    # Removing punctuation and numbers\n",
    "    text = re.sub(r'[^a-z\\s]', '', text)\n",
    "    # Tokenization (splitting text into words)\n",
    "    words = text.split()\n",
    "    # Stop word removal\n",
    "    stop_words = set(stopwords.words('english'))\n",
    "    words = [word for word in words if word not in stop_words]\n",
    "    # Lemmatization\n",
    "    lemmatizer = WordNetLemmatizer()\n",
    "    words = [lemmatizer.lemmatize(word) for word in words]\n",
    "    \n",
    "    return ' '.join(words)\n",
    "\n",
    "# Apply preprocessing to the abstracts\n",
    "data['Processed_Content'] = data['Content'].apply(preprocess_text)\n",
    "\n"
   ]
  },
  {
   "cell_type": "code",
   "execution_count": 6,
   "id": "0b01692a",
   "metadata": {},
   "outputs": [
    {
     "data": {
      "text/html": [
       "<div>\n",
       "<style scoped>\n",
       "    .dataframe tbody tr th:only-of-type {\n",
       "        vertical-align: middle;\n",
       "    }\n",
       "\n",
       "    .dataframe tbody tr th {\n",
       "        vertical-align: top;\n",
       "    }\n",
       "\n",
       "    .dataframe thead th {\n",
       "        text-align: right;\n",
       "    }\n",
       "</style>\n",
       "<table border=\"1\" class=\"dataframe\">\n",
       "  <thead>\n",
       "    <tr style=\"text-align: right;\">\n",
       "      <th></th>\n",
       "      <th>Label</th>\n",
       "      <th>Content</th>\n",
       "      <th>Content_Length</th>\n",
       "      <th>Processed_Content</th>\n",
       "    </tr>\n",
       "  </thead>\n",
       "  <tbody>\n",
       "    <tr>\n",
       "      <th>0</th>\n",
       "      <td>2</td>\n",
       "      <td>second counting input 5 2 which receives inter...</td>\n",
       "      <td>1505</td>\n",
       "      <td>second counting input receives internally cont...</td>\n",
       "    </tr>\n",
       "    <tr>\n",
       "      <th>1</th>\n",
       "      <td>4</td>\n",
       "      <td>extremely low temperature of the chips in cold...</td>\n",
       "      <td>1252</td>\n",
       "      <td>extremely low temperature chip cold season chi...</td>\n",
       "    </tr>\n",
       "    <tr>\n",
       "      <th>2</th>\n",
       "      <td>3</td>\n",
       "      <td>of the basic ammonium salt of the carboxyl ate...</td>\n",
       "      <td>1346</td>\n",
       "      <td>basic ammonium salt carboxyl ate water soluble...</td>\n",
       "    </tr>\n",
       "    <tr>\n",
       "      <th>3</th>\n",
       "      <td>9</td>\n",
       "      <td>18 u2033 is provided which is axially supporte...</td>\n",
       "      <td>1570</td>\n",
       "      <td>u provided axially supported crankshaft via ra...</td>\n",
       "    </tr>\n",
       "    <tr>\n",
       "      <th>4</th>\n",
       "      <td>2</td>\n",
       "      <td>to an u201c inner surface u201d means the surf...</td>\n",
       "      <td>1734</td>\n",
       "      <td>uc inner surface ud mean surface layer away ou...</td>\n",
       "    </tr>\n",
       "    <tr>\n",
       "      <th>5</th>\n",
       "      <td>2</td>\n",
       "      <td>dispenser 79 is completely opened the top can ...</td>\n",
       "      <td>1289</td>\n",
       "      <td>dispenser completely opened top c fall basket ...</td>\n",
       "    </tr>\n",
       "    <tr>\n",
       "      <th>6</th>\n",
       "      <td>7</td>\n",
       "      <td>strong and sharply defined magnetic fields ema...</td>\n",
       "      <td>1288</td>\n",
       "      <td>strong sharply defined magnetic field emanatin...</td>\n",
       "    </tr>\n",
       "    <tr>\n",
       "      <th>7</th>\n",
       "      <td>7</td>\n",
       "      <td>the current in nmos transistor m 1 equals the ...</td>\n",
       "      <td>1576</td>\n",
       "      <td>current nmos transistor equal sum current ntmo...</td>\n",
       "    </tr>\n",
       "    <tr>\n",
       "      <th>8</th>\n",
       "      <td>9</td>\n",
       "      <td>so the endophyte can be detected by this proce...</td>\n",
       "      <td>1699</td>\n",
       "      <td>endophyte detected procedure result neotyphodi...</td>\n",
       "    </tr>\n",
       "    <tr>\n",
       "      <th>9</th>\n",
       "      <td>5</td>\n",
       "      <td>b is affixed by convenient means not shown to ...</td>\n",
       "      <td>1179</td>\n",
       "      <td>b affixed convenient mean shown source shown o...</td>\n",
       "    </tr>\n",
       "  </tbody>\n",
       "</table>\n",
       "</div>"
      ],
      "text/plain": [
       "   Label                                            Content  Content_Length  \\\n",
       "0      2  second counting input 5 2 which receives inter...            1505   \n",
       "1      4  extremely low temperature of the chips in cold...            1252   \n",
       "2      3  of the basic ammonium salt of the carboxyl ate...            1346   \n",
       "3      9  18 u2033 is provided which is axially supporte...            1570   \n",
       "4      2  to an u201c inner surface u201d means the surf...            1734   \n",
       "5      2  dispenser 79 is completely opened the top can ...            1289   \n",
       "6      7  strong and sharply defined magnetic fields ema...            1288   \n",
       "7      7  the current in nmos transistor m 1 equals the ...            1576   \n",
       "8      9  so the endophyte can be detected by this proce...            1699   \n",
       "9      5  b is affixed by convenient means not shown to ...            1179   \n",
       "\n",
       "                                   Processed_Content  \n",
       "0  second counting input receives internally cont...  \n",
       "1  extremely low temperature chip cold season chi...  \n",
       "2  basic ammonium salt carboxyl ate water soluble...  \n",
       "3  u provided axially supported crankshaft via ra...  \n",
       "4  uc inner surface ud mean surface layer away ou...  \n",
       "5  dispenser completely opened top c fall basket ...  \n",
       "6  strong sharply defined magnetic field emanatin...  \n",
       "7  current nmos transistor equal sum current ntmo...  \n",
       "8  endophyte detected procedure result neotyphodi...  \n",
       "9  b affixed convenient mean shown source shown o...  "
      ]
     },
     "execution_count": 6,
     "metadata": {},
     "output_type": "execute_result"
    }
   ],
   "source": [
    "data.head(10)"
   ]
  },
  {
   "cell_type": "code",
   "execution_count": 7,
   "id": "1aa6511d",
   "metadata": {},
   "outputs": [],
   "source": [
    "# Splitting the dataset into training and testing sets\n",
    "X_train, X_test, y_train, y_test = train_test_split(data['Processed_Content'], data['Label'], test_size=0.18, random_state=42)\n",
    "\n"
   ]
  },
  {
   "cell_type": "code",
   "execution_count": 8,
   "id": "a1bcd0d3",
   "metadata": {},
   "outputs": [
    {
     "data": {
      "text/plain": [
       "(48477,)"
      ]
     },
     "execution_count": 8,
     "metadata": {},
     "output_type": "execute_result"
    }
   ],
   "source": [
    "X_train.shape"
   ]
  },
  {
   "cell_type": "markdown",
   "id": "88adaecc",
   "metadata": {},
   "source": [
    "\n",
    "### <p style=\"padding:10px;background-color:#0f5c59;margin:0;color:white;font-family:newtimeroman;font-size:150%;text-align:center;border-radius: 5px 20px;overflow:hidden;font-weight:500\">Model Pipeline using TF-IDF</p>"
   ]
  },
  {
   "cell_type": "code",
   "execution_count": 9,
   "id": "b8b2adb7",
   "metadata": {},
   "outputs": [
    {
     "data": {
      "text/plain": [
       "{'1': {'precision': 0.5794732061762035,\n",
       "  'recall': 0.5182778229082047,\n",
       "  'f1-score': 0.5471698113207547,\n",
       "  'support': 1231},\n",
       " '2': {'precision': 0.41241496598639454,\n",
       "  'recall': 0.4072208228379513,\n",
       "  'f1-score': 0.40980143641740596,\n",
       "  'support': 1191},\n",
       " '3': {'precision': 0.6113099498926271,\n",
       "  'recall': 0.7625,\n",
       "  'f1-score': 0.678585617798967,\n",
       "  'support': 1120},\n",
       " '4': {'precision': 0.7300194931773879,\n",
       "  'recall': 0.6535776614310645,\n",
       "  'f1-score': 0.6896869244935543,\n",
       "  'support': 1146},\n",
       " '5': {'precision': 0.5689922480620155,\n",
       "  'recall': 0.642169728783902,\n",
       "  'f1-score': 0.603370324702014,\n",
       "  'support': 1143},\n",
       " '6': {'precision': 0.5054421768707483,\n",
       "  'recall': 0.6238455079764903,\n",
       "  'f1-score': 0.5584366779406239,\n",
       "  'support': 1191},\n",
       " '7': {'precision': 0.5211678832116788,\n",
       "  'recall': 0.5734939759036145,\n",
       "  'f1-score': 0.5460803059273422,\n",
       "  'support': 1245},\n",
       " '8': {'precision': 0.5930984902947519,\n",
       "  'recall': 0.637065637065637,\n",
       "  'f1-score': 0.6142963514519731,\n",
       "  'support': 1295},\n",
       " '9': {'precision': 0.1876484560570071,\n",
       "  'recall': 0.07314814814814814,\n",
       "  'f1-score': 0.10526315789473684,\n",
       "  'support': 1080},\n",
       " 'accuracy': 0.5469836496899079,\n",
       " 'macro avg': {'precision': 0.5232852077476461,\n",
       "  'recall': 0.543477700561668,\n",
       "  'f1-score': 0.5280767342163748,\n",
       "  'support': 10642},\n",
       " 'weighted avg': {'precision': 0.5260011171409028,\n",
       "  'recall': 0.5469836496899079,\n",
       "  'f1-score': 0.5314654188133136,\n",
       "  'support': 10642}}"
      ]
     },
     "execution_count": 9,
     "metadata": {},
     "output_type": "execute_result"
    }
   ],
   "source": [
    "# Creating a pipeline with TF-IDF Vectorizer and Logistic Regression\n",
    "pipeline = Pipeline([\n",
    "    ('tfidf', TfidfVectorizer(max_features=5000)),\n",
    "    ('clf', LogisticRegression(max_iter=1000))\n",
    "])\n",
    "\n",
    "# Training the model\n",
    "pipeline.fit(X_train, y_train)\n",
    "\n",
    "# Predicting the test set\n",
    "y_pred = pipeline.predict(X_test)\n",
    "\n",
    "# Evaluating the model\n",
    "evaluation_report = classification_report(y_test, y_pred, output_dict=True)\n",
    "\n",
    "# Return the evaluation report\n",
    "evaluation_report\n"
   ]
  },
  {
   "cell_type": "code",
   "execution_count": 10,
   "id": "d837d1aa",
   "metadata": {},
   "outputs": [
    {
     "name": "stdout",
     "output_type": "stream",
     "text": [
      "Balanced Accuracy Score (Decision Tree): 0.543477700561668\n"
     ]
    }
   ],
   "source": [
    "\n",
    "# Calculate balanced accuracy score\n",
    "balanced_acc_lgr = balanced_accuracy_score(y_test, y_pred)\n",
    "print(\"Balanced Accuracy Score (Decision Tree):\", balanced_acc_lgr)"
   ]
  },
  {
   "cell_type": "markdown",
   "id": "f8eb23d5",
   "metadata": {},
   "source": [
    "\n",
    "### <p style=\"padding:10px;background-color:#0f5c59;margin:0;color:white;font-family:newtimeroman;font-size:150%;text-align:center;border-radius: 5px 20px;overflow:hidden;font-weight:500\">Logistic Regression</p>"
   ]
  },
  {
   "cell_type": "code",
   "execution_count": 11,
   "id": "c162731a",
   "metadata": {},
   "outputs": [
    {
     "name": "stdout",
     "output_type": "stream",
     "text": [
      "Balanced Accuracy Score (Decision Tree): 0.5576465099755342\n"
     ]
    }
   ],
   "source": [
    "from sklearn.pipeline import Pipeline\n",
    "from sklearn.feature_extraction.text import TfidfVectorizer\n",
    "from sklearn.linear_model import LogisticRegression\n",
    "from sklearn.metrics import classification_report\n",
    "\n",
    "# Updating the pipeline with the specified hyperparameters\n",
    "pipeline_updated = Pipeline([\n",
    "    ('tfidf', TfidfVectorizer(max_features=10000, ngram_range=(1, 1))),\n",
    "    ('clf', LogisticRegression(C=1, penalty='l2', solver='liblinear', max_iter=1000))\n",
    "])\n",
    "\n",
    "# Training the model with the updated pipeline\n",
    "pipeline_updated.fit(X_train, y_train)\n",
    "\n",
    "# Predicting the test set with the updated model\n",
    "y_pred_updated = pipeline_updated.predict(X_test)\n",
    "\n",
    "# Evaluating the updated model\n",
    "evaluation_report_updated = classification_report(y_test, y_pred_updated, output_dict=True)\n",
    "\n",
    "\n",
    "# Calculate balanced accuracy score\n",
    "balanced_acc_upddated = balanced_accuracy_score(y_test, y_pred_updated)\n",
    "print(\"Balanced Accuracy Score (Decision Tree):\", balanced_acc_upddated)\n"
   ]
  },
  {
   "cell_type": "markdown",
   "id": "0fa9018b",
   "metadata": {},
   "source": [
    "\n",
    "### <p style=\"padding:10px;background-color:#0f5c59;margin:0;color:white;font-family:newtimeroman;font-size:150%;text-align:center;border-radius: 5px 20px;overflow:hidden;font-weight:500\">LightGBM</p>"
   ]
  },
  {
   "cell_type": "code",
   "execution_count": 12,
   "id": "f89d3f75",
   "metadata": {},
   "outputs": [
    {
     "name": "stdout",
     "output_type": "stream",
     "text": [
      "[LightGBM] [Info] Auto-choosing row-wise multi-threading, the overhead of testing was 0.795579 seconds.\n",
      "You can set `force_row_wise=true` to remove the overhead.\n",
      "And if memory is not enough, you can set `force_col_wise=true`.\n",
      "[LightGBM] [Info] Total Bins 580344\n",
      "[LightGBM] [Info] Number of data points in the train set: 48477, number of used features: 4999\n",
      "[LightGBM] [Info] Start training from score -2.171806\n",
      "[LightGBM] [Info] Start training from score -2.153869\n",
      "[LightGBM] [Info] Start training from score -2.283927\n",
      "[LightGBM] [Info] Start training from score -2.316231\n",
      "[LightGBM] [Info] Start training from score -2.208865\n",
      "[LightGBM] [Info] Start training from score -2.141325\n",
      "[LightGBM] [Info] Start training from score -2.106476\n",
      "[LightGBM] [Info] Start training from score -2.122025\n",
      "[LightGBM] [Info] Start training from score -2.295739\n",
      "Balanced Accuracy Score (LightGBM): 0.554390567563567\n"
     ]
    }
   ],
   "source": [
    "from lightgbm import LGBMClassifier\n",
    "from sklearn.feature_extraction.text import TfidfVectorizer\n",
    "from sklearn.metrics import classification_report, balanced_accuracy_score\n",
    "\n",
    "# Vectorize the text\n",
    "tfidf_vectorizer = TfidfVectorizer(max_features=5000)\n",
    "X_train_vec = tfidf_vectorizer.fit_transform(X_train)\n",
    "X_test_vec = tfidf_vectorizer.transform(X_test)\n",
    "\n",
    "# Initialize the LightGBM classifier\n",
    "lgbm_classifier = LGBMClassifier()\n",
    "\n",
    "# Train the LightGBM classifier\n",
    "lgbm_classifier.fit(X_train_vec, y_train)\n",
    "\n",
    "# Predict the test set\n",
    "y_pred_lgbm = lgbm_classifier.predict(X_test_vec)\n",
    "\n",
    "# Evaluate the model\n",
    "evaluation_report_lgbm = classification_report(y_test, y_pred_lgbm, output_dict=True)\n",
    "\n",
    "# Calculate balanced accuracy score\n",
    "balanced_acc_lgbm = balanced_accuracy_score(y_test, y_pred_lgbm)\n",
    "\n",
    "# Print the balanced accuracy score\n",
    "print(\"Balanced Accuracy Score (LightGBM):\", balanced_acc_lgbm)\n"
   ]
  },
  {
   "cell_type": "code",
   "execution_count": null,
   "id": "263bcc3e",
   "metadata": {},
   "outputs": [],
   "source": []
  },
  {
   "cell_type": "code",
   "execution_count": null,
   "id": "ebaf86e8",
   "metadata": {},
   "outputs": [],
   "source": []
  },
  {
   "cell_type": "code",
   "execution_count": null,
   "id": "d4794c75",
   "metadata": {},
   "outputs": [],
   "source": []
  },
  {
   "cell_type": "code",
   "execution_count": null,
   "id": "e8a1bca7",
   "metadata": {},
   "outputs": [],
   "source": []
  },
  {
   "cell_type": "code",
   "execution_count": null,
   "id": "3eb80c6e",
   "metadata": {},
   "outputs": [],
   "source": []
  },
  {
   "cell_type": "code",
   "execution_count": null,
   "id": "ac49c362",
   "metadata": {},
   "outputs": [],
   "source": []
  },
  {
   "cell_type": "code",
   "execution_count": null,
   "id": "29c5e598",
   "metadata": {},
   "outputs": [],
   "source": []
  },
  {
   "cell_type": "code",
   "execution_count": null,
   "id": "4fa872e3",
   "metadata": {},
   "outputs": [],
   "source": []
  },
  {
   "cell_type": "code",
   "execution_count": null,
   "id": "9f02eb2e",
   "metadata": {},
   "outputs": [],
   "source": []
  }
 ],
 "metadata": {
  "kernelspec": {
   "display_name": "Python 3 (ipykernel)",
   "language": "python",
   "name": "python3"
  },
  "language_info": {
   "codemirror_mode": {
    "name": "ipython",
    "version": 3
   },
   "file_extension": ".py",
   "mimetype": "text/x-python",
   "name": "python",
   "nbconvert_exporter": "python",
   "pygments_lexer": "ipython3",
   "version": "3.9.12"
  }
 },
 "nbformat": 4,
 "nbformat_minor": 5
}
